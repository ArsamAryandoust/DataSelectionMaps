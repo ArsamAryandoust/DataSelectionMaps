{
 "cells": [
  {
   "cell_type": "markdown",
   "metadata": {},
   "source": [
    "# Additional result figures for *Enhanced spatio-temporal electric load forecasts with less data using active deep learning*\n",
    "\n",
    "---\n",
    "\n",
    "## Overview\n",
    "1. Space and time selection\n",
    "2. Budget vs. accuracy\n",
    "3. Exemplar predictions\n",
    "4. Data selection maps\n",
    "\n",
    "In this notebook session, we visualize additional properties and results to our method and experiments. "
   ]
  },
  {
   "cell_type": "code",
   "execution_count": 1,
   "metadata": {},
   "outputs": [],
   "source": [
    "import vis_addresults\n",
    "HYPER_ADDVIS = vis_addresults.HyperParameterAdditionalVisualizing()"
   ]
  },
  {
   "cell_type": "markdown",
   "metadata": {},
   "source": [
    "## 1. Space and time selection"
   ]
  },
  {
   "cell_type": "code",
   "execution_count": 2,
   "metadata": {
    "scrolled": true
   },
   "outputs": [],
   "source": [
    "%%capture \n",
    "vis_addresults.plot_space_time_selection(HYPER_ADDVIS)"
   ]
  },
  {
   "cell_type": "markdown",
   "metadata": {},
   "source": [
    "## 2. Budget vs. accuracy"
   ]
  },
  {
   "cell_type": "code",
   "execution_count": 3,
   "metadata": {},
   "outputs": [],
   "source": [
    "%%capture \n",
    "vis_addresults.plot_budget_vs_accuracy(HYPER_ADDVIS)"
   ]
  },
  {
   "cell_type": "markdown",
   "metadata": {},
   "source": [
    "## 3. Exemplar predictions"
   ]
  },
  {
   "cell_type": "code",
   "execution_count": 4,
   "metadata": {},
   "outputs": [],
   "source": [
    "%%capture \n",
    "vis_addresults.plot_exemplar_predictions(HYPER_ADDVIS)"
   ]
  },
  {
   "cell_type": "markdown",
   "metadata": {},
   "source": [
    "## 4. Data selection maps"
   ]
  },
  {
   "cell_type": "code",
   "execution_count": 5,
   "metadata": {},
   "outputs": [],
   "source": [
    "%%capture \n",
    "vis_addresults.plot_data_selection_maps(HYPER_ADDVIS)"
   ]
  }
 ],
 "metadata": {
  "kernelspec": {
   "display_name": "Python 3",
   "language": "python",
   "name": "python3"
  },
  "language_info": {
   "codemirror_mode": {
    "name": "ipython",
    "version": 3
   },
   "file_extension": ".py",
   "mimetype": "text/x-python",
   "name": "python",
   "nbconvert_exporter": "python",
   "pygments_lexer": "ipython3",
   "version": "3.6.9"
  }
 },
 "nbformat": 4,
 "nbformat_minor": 4
}
